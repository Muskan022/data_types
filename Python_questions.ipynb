{
 "cells": [
  {
   "cell_type": "markdown",
   "id": "88fed9f4",
   "metadata": {},
   "source": [
    "# Some basic and important python questions"
   ]
  },
  {
   "cell_type": "markdown",
   "id": "f02c1205",
   "metadata": {},
   "source": [
    "##### Q1. How do you comment code in Python? What are the different types of comments?\n",
    "\n",
    "Ans - We can comment our code using the (#) symbol. This is single line comment as it only applies to the line it is on.There are also multiline comments, which can be created by inserting # at the beginning or by using triple quotes (\"\"\") or (''') to enclose the comment.\n"
   ]
  },
  {
   "cell_type": "code",
   "execution_count": 1,
   "id": "9d63abec",
   "metadata": {},
   "outputs": [
    {
     "name": "stdout",
     "output_type": "stream",
     "text": [
      "Hey,Muskan here\n"
     ]
    }
   ],
   "source": [
    "# this is a single-line quote \n",
    "print(\"Hey,Muskan here\")\n"
   ]
  },
  {
   "cell_type": "code",
   "execution_count": 2,
   "id": "ac96256a",
   "metadata": {},
   "outputs": [
    {
     "data": {
      "text/plain": [
       "'\\nwe can write multiline comment\\nenclosed in triple quotes.\\nkeep reading for more important question\\n\\n'"
      ]
     },
     "execution_count": 2,
     "metadata": {},
     "output_type": "execute_result"
    }
   ],
   "source": [
    "\"\"\"\n",
    "we can write multiline comment\n",
    "enclosed in triple quotes.\n",
    "keep reading for more important question\n",
    "\n",
    "\"\"\""
   ]
  },
  {
   "cell_type": "markdown",
   "id": "75350b8e",
   "metadata": {},
   "source": [
    "##### Q2. What are variables in Python? How do you declare and assign values to variables?\n",
    "\n",
    "Ans- Variables act as a container to store data values.In python, we don't need to declare a variable with any particular type before assigning a value to it. for example i want to store int value in variable A so i can just assign any value to A with declaring the type of the variable (like int(A))."
   ]
  },
  {
   "cell_type": "code",
   "execution_count": 3,
   "id": "46a26b2e",
   "metadata": {},
   "outputs": [
    {
     "name": "stdout",
     "output_type": "stream",
     "text": [
      "34\n",
      "Muskan\n",
      "89.9\n",
      "muskan@@@@\n"
     ]
    }
   ],
   "source": [
    "# assigning data values to variables\n",
    "A = 34\n",
    "B = \"Muskan\"\n",
    "C = 89.9\n",
    "D =\"muskan@@@@\"\n",
    "print(A)\n",
    "print(B)\n",
    "print(C)\n",
    "print(D)"
   ]
  },
  {
   "cell_type": "markdown",
   "id": "4141072b",
   "metadata": {},
   "source": [
    "##### Q3. How do you convert one data type to another in Python?\n",
    "\n",
    "Ans-The process of converting the value of one data type to another data type is known as Type Casting or Type Conversion.In python, we can use in-built functions like int(), float(), str(), these functions takes the argument and change it. \n",
    "\n",
    "There are two types of type casting :\n",
    "\n",
    "1. Implicit type casting = When the compiler understands and does it for you.\n",
    "2. Explicit type casting = when we tell the compiler to convert the data types.\n",
    " "
   ]
  },
  {
   "cell_type": "code",
   "execution_count": 4,
   "id": "74d3e092",
   "metadata": {},
   "outputs": [
    {
     "data": {
      "text/plain": [
       "int"
      ]
     },
     "execution_count": 4,
     "metadata": {},
     "output_type": "execute_result"
    }
   ],
   "source": [
    "# Explicit type casting \n",
    "\n",
    "A = 453\n",
    "type(A)\n"
   ]
  },
  {
   "cell_type": "code",
   "execution_count": 5,
   "id": "99792d3e",
   "metadata": {},
   "outputs": [
    {
     "name": "stdout",
     "output_type": "stream",
     "text": [
      "<class 'str'>\n",
      "453\n"
     ]
    }
   ],
   "source": [
    "B = str(A)\n",
    "print(type(B))\n",
    "print(B)"
   ]
  },
  {
   "cell_type": "code",
   "execution_count": 6,
   "id": "21bca801",
   "metadata": {},
   "outputs": [
    {
     "name": "stdout",
     "output_type": "stream",
     "text": [
      "(37+4j)\n",
      "<class 'complex'>\n"
     ]
    },
    {
     "data": {
      "text/plain": [
       "'\\nIn this example , an integer and a complex number are added together. Python automatically \\nconverts the integer to a complex number before performing the addition. The result is a complex\\nnumber.\\n\\n'"
      ]
     },
     "execution_count": 6,
     "metadata": {},
     "output_type": "execute_result"
    }
   ],
   "source": [
    "## Implicit type casting\n",
    "\n",
    "x = 34\n",
    "y = 3+4j \n",
    "z = x + y\n",
    "print(z)\n",
    "print(type(z))\n",
    "\n",
    "\"\"\"\n",
    "In this example , an integer and a complex number are added together. Python automatically \n",
    "converts the integer to a complex number before performing the addition. The result is a complex\n",
    "number.\n",
    "\n",
    "\"\"\""
   ]
  },
  {
   "cell_type": "markdown",
   "id": "e4d04eed",
   "metadata": {},
   "source": [
    "#####  Q4. How do you write and execute a Python script from the command line?\n",
    "\n",
    "Ans - To write a python script in command line , we need to have Python installed on our computer. After then follow these steps :\n",
    "\n",
    "1. Open a text editor and write your Python code. For example:\n",
    "   print(\"Hey! Python learners\")\n",
    "\n",
    "2. Save the file with a .py extension, such as learn_python.py.\n",
    "\n",
    "3. Open a command prompt or terminal window.\n",
    "\n",
    "4. Navigate to the directory where you saved your Python script.\n",
    "\n",
    "5. Type python followed by the name of your script file, and press enter. For example:\n",
    "   python learn_python.py\n"
   ]
  },
  {
   "cell_type": "markdown",
   "id": "95dbc9fe",
   "metadata": {},
   "source": [
    "##### Q5. Given a list my_list = [1, 2, 3, 4, 5], write the code to slice the list and obtain the sub-list [2, 3]."
   ]
  },
  {
   "cell_type": "code",
   "execution_count": 7,
   "id": "bac7b4dd",
   "metadata": {},
   "outputs": [
    {
     "data": {
      "text/plain": [
       "[2, 3]"
      ]
     },
     "execution_count": 7,
     "metadata": {},
     "output_type": "execute_result"
    }
   ],
   "source": [
    "my_list = [1,2,3,4,5]\n",
    "my_list[1:3]"
   ]
  },
  {
   "cell_type": "markdown",
   "id": "027cbd34",
   "metadata": {},
   "source": [
    "##### Q6. What is a complex number in mathematics, and how is it represented in Python?\n",
    "\n",
    "Ans- Complex number is a number that can be expressed in the form of a + bi where a and b are real numbers and i is imaginary number and it is square root of -1. \n",
    "here , real part is represented as a and imaginary part is b."
   ]
  },
  {
   "cell_type": "code",
   "execution_count": 8,
   "id": "306d7457",
   "metadata": {},
   "outputs": [
    {
     "name": "stdout",
     "output_type": "stream",
     "text": [
      "<class 'complex'>\n",
      "(4+7j)\n"
     ]
    }
   ],
   "source": [
    "C = 4 + 7j\n",
    "print(type(C))\n",
    "print(C)\n",
    "\n",
    "# we use j to represent imaginary number"
   ]
  },
  {
   "cell_type": "code",
   "execution_count": 9,
   "id": "324e01e2",
   "metadata": {},
   "outputs": [
    {
     "name": "stdout",
     "output_type": "stream",
     "text": [
      "<class 'complex'>\n",
      "(4+7j)\n"
     ]
    }
   ],
   "source": [
    "# we can also make complex numbers like this\n",
    "B = complex(4,7)\n",
    "print(type(B))\n",
    "print(B)"
   ]
  },
  {
   "cell_type": "markdown",
   "id": "5a2bc2c6",
   "metadata": {},
   "source": [
    "##### Q7. What is the correct way to declare a variable named age and assign the value 25 to it?\n",
    "\n",
    "Ans- we can simply declare a varaible age or can use any name to store value."
   ]
  },
  {
   "cell_type": "code",
   "execution_count": 10,
   "id": "cb0a47c1",
   "metadata": {},
   "outputs": [
    {
     "data": {
      "text/plain": [
       "25"
      ]
     },
     "execution_count": 10,
     "metadata": {},
     "output_type": "execute_result"
    }
   ],
   "source": [
    "age = 25\n",
    "age"
   ]
  },
  {
   "cell_type": "markdown",
   "id": "bd68aa0d",
   "metadata": {},
   "source": [
    "##### Q8. Declare a variable named price and assign the value 9.99 to it. What data type does this variable belong to?\n"
   ]
  },
  {
   "cell_type": "code",
   "execution_count": 11,
   "id": "e34f31a4",
   "metadata": {},
   "outputs": [
    {
     "name": "stdout",
     "output_type": "stream",
     "text": [
      "<class 'float'>\n",
      "9.99\n"
     ]
    }
   ],
   "source": [
    "price = 9.99 \n",
    "print(type(price))\n",
    "print(price)"
   ]
  },
  {
   "cell_type": "markdown",
   "id": "91f9cafd",
   "metadata": {},
   "source": [
    "##### Q9. Create a variable named name and assign your full name to it as a string. How would you print the value of this variable?"
   ]
  },
  {
   "cell_type": "code",
   "execution_count": 12,
   "id": "e60fae17",
   "metadata": {},
   "outputs": [
    {
     "data": {
      "text/plain": [
       "'Muskan Gupta'"
      ]
     },
     "execution_count": 12,
     "metadata": {},
     "output_type": "execute_result"
    }
   ],
   "source": [
    "name = \"Muskan Gupta\"\n",
    "name "
   ]
  },
  {
   "cell_type": "code",
   "execution_count": 13,
   "id": "0367d25f",
   "metadata": {},
   "outputs": [
    {
     "name": "stdout",
     "output_type": "stream",
     "text": [
      "Muskan Gupta\n"
     ]
    }
   ],
   "source": [
    "print(name)"
   ]
  },
  {
   "cell_type": "markdown",
   "id": "29b8509f",
   "metadata": {},
   "source": [
    "##### Q10. Given the string \"Hello, World!\", extract the substring \"World\"."
   ]
  },
  {
   "cell_type": "code",
   "execution_count": 14,
   "id": "5363802d",
   "metadata": {},
   "outputs": [
    {
     "data": {
      "text/plain": [
       "'World'"
      ]
     },
     "execution_count": 14,
     "metadata": {},
     "output_type": "execute_result"
    }
   ],
   "source": [
    "A = \"Hello, World!\"\n",
    "A[7:12]"
   ]
  },
  {
   "cell_type": "markdown",
   "id": "dd44e65d",
   "metadata": {},
   "source": [
    "##### Q11. Create a variable named \"is_student\" and assign it a boolean value indicating whether you are currently a student or not.\n"
   ]
  },
  {
   "cell_type": "code",
   "execution_count": 15,
   "id": "72e3d43e",
   "metadata": {},
   "outputs": [
    {
     "data": {
      "text/plain": [
       "True"
      ]
     },
     "execution_count": 15,
     "metadata": {},
     "output_type": "execute_result"
    }
   ],
   "source": [
    "is_student = True\n",
    "is_student"
   ]
  },
  {
   "cell_type": "code",
   "execution_count": 16,
   "id": "b556d008",
   "metadata": {},
   "outputs": [
    {
     "data": {
      "text/plain": [
       "False"
      ]
     },
     "execution_count": 16,
     "metadata": {},
     "output_type": "execute_result"
    }
   ],
   "source": [
    "is_student = False\n",
    "is_student"
   ]
  },
  {
   "cell_type": "code",
   "execution_count": null,
   "id": "8e8015fe",
   "metadata": {},
   "outputs": [],
   "source": []
  }
 ],
 "metadata": {
  "kernelspec": {
   "display_name": "Python 3 (ipykernel)",
   "language": "python",
   "name": "python3"
  },
  "language_info": {
   "codemirror_mode": {
    "name": "ipython",
    "version": 3
   },
   "file_extension": ".py",
   "mimetype": "text/x-python",
   "name": "python",
   "nbconvert_exporter": "python",
   "pygments_lexer": "ipython3",
   "version": "3.9.13"
  }
 },
 "nbformat": 4,
 "nbformat_minor": 5
}
