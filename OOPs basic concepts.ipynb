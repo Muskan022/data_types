{
 "cells": [
  {
   "cell_type": "markdown",
   "id": "f1e151a2",
   "metadata": {},
   "source": [
    "##### Q1. Explain Class and Object with respect to Object-Oriented Programming. Give a suitable example.\n",
    "\n",
    "Ans - Class - A class is a user-defined layout or blueprint of an object that describes what a specific kind of object will look like. \n",
    "\n",
    "object - An object on the other hadn , is an instance of a class. It is created using the class keyword. when a class is defined, no memory is allocated but when it is instantiated memory is allocated."
   ]
  },
  {
   "cell_type": "code",
   "execution_count": 1,
   "id": "402f8704",
   "metadata": {},
   "outputs": [],
   "source": [
    "## example of class and object \n",
    "\n",
    "class person:\n",
    "    \n",
    "    def __init__(self, name , age , gender , email_id):\n",
    "        self.name = name \n",
    "        self.age = age \n",
    "        self.gender = gender \n",
    "        self.email_id = email_id \n",
    "        \n",
    "    def display_person(self):\n",
    "        print(\"Name : \", self.name)\n",
    "        print(\"Age : \", self.age)\n",
    "        print(\"Gender : \", self.gender)\n",
    "        print(\"Email ID :\" , self.email_id)"
   ]
  },
  {
   "cell_type": "code",
   "execution_count": 2,
   "id": "b78cf396",
   "metadata": {},
   "outputs": [],
   "source": [
    "# instantiating an object\n",
    "muskan = person(\"Muskan\", 23, \"Female\" , \"muskan@gmail.com\")"
   ]
  },
  {
   "cell_type": "code",
   "execution_count": 3,
   "id": "c8622be7",
   "metadata": {},
   "outputs": [
    {
     "name": "stdout",
     "output_type": "stream",
     "text": [
      "Name :  Muskan\n",
      "Age :  23\n",
      "Gender :  Female\n",
      "Email ID : muskan@gmail.com\n"
     ]
    }
   ],
   "source": [
    "muskan.display_person()"
   ]
  },
  {
   "cell_type": "markdown",
   "id": "61b1a12c",
   "metadata": {},
   "source": [
    "##### Q2. Name the four pillars of OOPs.\n",
    "\n",
    "Ans - The four pillars of OOPs( Object- oriented programmimg) are:\n",
    " \n",
    "1. Polymorphism \n",
    "2. Inheritance \n",
    "3. Abstraction \n",
    "4. Encapsulation "
   ]
  },
  {
   "cell_type": "markdown",
   "id": "7e4e2f14",
   "metadata": {},
   "source": [
    "##### Q3. Explain why the __init__() function is used. Give a suitable example.\n",
    "\n",
    "Ans - The __init__() function is a special method in Python classes known as __constructor__, used to initialize the state of newly created objects, it is automatically called when an object is created, it allows you to set values for the objects attributes adn perform any other setup required. "
   ]
  },
  {
   "cell_type": "code",
   "execution_count": 4,
   "id": "2f7f9454",
   "metadata": {},
   "outputs": [],
   "source": [
    "class cars:\n",
    "    \n",
    "    def __init__(self, name_of_car , max_speed , fuel_type):\n",
    "        self.Name = name_of_car \n",
    "        self.speed = max_speed\n",
    "        self.fuel = fuel_type\n",
    "        \n",
    "    def display(self):\n",
    "        print(\"Name of the car :\" ,self.Name)\n",
    "        print(\"Max Speed :\" , self.speed)\n",
    "        print(\"Fuel Type :\" , self.fuel)"
   ]
  },
  {
   "cell_type": "code",
   "execution_count": 5,
   "id": "29a697fd",
   "metadata": {},
   "outputs": [],
   "source": [
    "car = cars(\"Honda City\",180 , \"Petrol\")"
   ]
  },
  {
   "cell_type": "code",
   "execution_count": 6,
   "id": "eab43f06",
   "metadata": {},
   "outputs": [
    {
     "name": "stdout",
     "output_type": "stream",
     "text": [
      "Name of the car : Honda City\n",
      "Max Speed : 180\n",
      "Fuel Type : Petrol\n"
     ]
    }
   ],
   "source": [
    "car.display()"
   ]
  },
  {
   "cell_type": "code",
   "execution_count": 7,
   "id": "d6965154",
   "metadata": {},
   "outputs": [
    {
     "data": {
      "text/plain": [
       "'Honda City'"
      ]
     },
     "execution_count": 7,
     "metadata": {},
     "output_type": "execute_result"
    }
   ],
   "source": [
    "car.Name"
   ]
  },
  {
   "cell_type": "markdown",
   "id": "3e251526",
   "metadata": {},
   "source": [
    "##### Q4. Why self is used in OOPs?\n",
    "\n",
    "Ans - In Python, the __self__ keyword is used to refer to the instance of the object being created or called. It is used as the first parameter in methods defined inside a class, and it allows the method to access and modify the attributes and methods of the object. \n",
    "This is necessary because when a method is called on an object, it needs to know which specific object it is operating on."
   ]
  },
  {
   "cell_type": "markdown",
   "id": "161407f9",
   "metadata": {},
   "source": [
    "##### Q5. What is inheritance? Give an example for each type of inheritance.\n",
    "\n",
    "Ans - Inheritance is a core concept of object-oriented programming (OOP) languages. It is a mechanism where we can derive a class from another class for a hierarchy of classes that share a set of attributes and methods. "
   ]
  },
  {
   "cell_type": "code",
   "execution_count": 8,
   "id": "53d53f64",
   "metadata": {},
   "outputs": [],
   "source": [
    "## Example of inheritance \n",
    "\n",
    "class vehicles:\n",
    "    \n",
    "    def __init__(self,name , make , fuel_type):\n",
    "        self.name = name\n",
    "        self.make = make \n",
    "        self.fuel = fuel_type\n",
    "        \n",
    "    def display(self):\n",
    "        print(\"Name : \", self.name)\n",
    "        print(\"Make :\", self.make)\n",
    "        print(\"Fuel :\" , self.fuel)\n",
    "\n",
    "class cars(vehicles):\n",
    "    \n",
    "        pass\n",
    "                 "
   ]
  },
  {
   "cell_type": "code",
   "execution_count": 9,
   "id": "3d0f36a5",
   "metadata": {},
   "outputs": [],
   "source": [
    "car = cars(\"Amaze\", \"Honda\",\"Petrol\")"
   ]
  },
  {
   "cell_type": "code",
   "execution_count": 10,
   "id": "b879bf3c",
   "metadata": {},
   "outputs": [
    {
     "name": "stdout",
     "output_type": "stream",
     "text": [
      "Name :  Amaze\n",
      "Make : Honda\n",
      "Fuel : Petrol\n"
     ]
    }
   ],
   "source": [
    "## class car inherits all the properties and methods of class vehicles\n",
    "car.display()"
   ]
  },
  {
   "cell_type": "code",
   "execution_count": 11,
   "id": "4b7c907d",
   "metadata": {},
   "outputs": [
    {
     "data": {
      "text/plain": [
       "'Petrol'"
      ]
     },
     "execution_count": 11,
     "metadata": {},
     "output_type": "execute_result"
    }
   ],
   "source": [
    "car.fuel"
   ]
  },
  {
   "cell_type": "code",
   "execution_count": null,
   "id": "7c9ac5b0",
   "metadata": {},
   "outputs": [],
   "source": []
  }
 ],
 "metadata": {
  "kernelspec": {
   "display_name": "Python 3 (ipykernel)",
   "language": "python",
   "name": "python3"
  },
  "language_info": {
   "codemirror_mode": {
    "name": "ipython",
    "version": 3
   },
   "file_extension": ".py",
   "mimetype": "text/x-python",
   "name": "python",
   "nbconvert_exporter": "python",
   "pygments_lexer": "ipython3",
   "version": "3.9.13"
  }
 },
 "nbformat": 4,
 "nbformat_minor": 5
}
