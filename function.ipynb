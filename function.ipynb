{
 "cells": [
  {
   "cell_type": "markdown",
   "id": "23ec09ac",
   "metadata": {},
   "source": [
    "##### Q1. Which keyword is used to create a function? Create a function to return a list of odd numbers in the range of 1 to 25."
   ]
  },
  {
   "cell_type": "code",
   "execution_count": 1,
   "id": "e4867764",
   "metadata": {},
   "outputs": [],
   "source": [
    "# def keyword is used to create a function.\n",
    "def odd():\n",
    "    l1 = []\n",
    "    for i in range(1,25):\n",
    "        if i%2 != 0:\n",
    "            l1.append(i)\n",
    "            \n",
    "    return l1      \n",
    "            \n",
    "        "
   ]
  },
  {
   "cell_type": "code",
   "execution_count": 2,
   "id": "892773cb",
   "metadata": {},
   "outputs": [
    {
     "data": {
      "text/plain": [
       "[1, 3, 5, 7, 9, 11, 13, 15, 17, 19, 21, 23]"
      ]
     },
     "execution_count": 2,
     "metadata": {},
     "output_type": "execute_result"
    }
   ],
   "source": [
    "odd()"
   ]
  },
  {
   "cell_type": "markdown",
   "id": "bdf0f710",
   "metadata": {},
   "source": [
    "##### Q2. Why *args and **kwargs is used in some functions? Create a function each for *args and **kwargs to demonstrate their use.\n",
    "\n",
    "Ans - *args = * is used to pass any number of non-keyworded arguments to a function.\n",
    "       **kwargs = it is used to pass any number of keyworded arguments to a function.  \n"
   ]
  },
  {
   "cell_type": "code",
   "execution_count": 3,
   "id": "b61ae453",
   "metadata": {},
   "outputs": [],
   "source": [
    "# we can use any name but * is needed like *musk,*d ...\n",
    "def func1(*args):\n",
    "    return args"
   ]
  },
  {
   "cell_type": "code",
   "execution_count": 4,
   "id": "d85846a7",
   "metadata": {},
   "outputs": [
    {
     "data": {
      "text/plain": [
       "('muskan', 24, 352.32, 'hello')"
      ]
     },
     "execution_count": 4,
     "metadata": {},
     "output_type": "execute_result"
    }
   ],
   "source": [
    "func1(\"muskan\",24,352.32,\"hello\")"
   ]
  },
  {
   "cell_type": "code",
   "execution_count": 5,
   "id": "d7e66ba5",
   "metadata": {},
   "outputs": [],
   "source": [
    "def func2(**kwargs):\n",
    "    return kwargs"
   ]
  },
  {
   "cell_type": "code",
   "execution_count": 6,
   "id": "e315a8ff",
   "metadata": {},
   "outputs": [
    {
     "data": {
      "text/plain": [
       "{'a': 'muskan', 'b': [24, 32, 23, 34.2, 43], 'c': 'pwskills', 'd': 'hey'}"
      ]
     },
     "execution_count": 6,
     "metadata": {},
     "output_type": "execute_result"
    }
   ],
   "source": [
    "func2(a =\"muskan\",b=[24,32,23,34.2,43],c=\"pwskills\",d=\"hey\")"
   ]
  },
  {
   "cell_type": "markdown",
   "id": "5d3a6e7e",
   "metadata": {},
   "source": [
    "##### Q3. What is an iterator in python? Name the method used to initialise the iterator object and the method used for iteration. Use these methods to print the first five elements of the given list [2, 4, 6, 8, 10, 12, 14,16, 18, 20].\n",
    "\n",
    "Ans -An iterator is an object that is used to iterate over iterable objects like dict,tuples,sets and list. iter() method is used to intialize the iterator object and next() method is used for iteration.\n"
   ]
  },
  {
   "cell_type": "code",
   "execution_count": 7,
   "id": "2ac26cb2",
   "metadata": {},
   "outputs": [
    {
     "name": "stdout",
     "output_type": "stream",
     "text": [
      "2\n",
      "4\n",
      "6\n",
      "8\n",
      "10\n"
     ]
    }
   ],
   "source": [
    "l =  [2, 4, 6, 8, 10, 12, 14,16, 18, 20]\n",
    "l1 = iter(l)\n",
    "for i in range(5):\n",
    "    print(next(l1))"
   ]
  },
  {
   "cell_type": "markdown",
   "id": "096de478",
   "metadata": {},
   "source": [
    "##### Q4. What is a generator function in python? Why yield keyword is used? Give an example of a generator function.\n",
    "\n",
    "Ans - Generator function is a special type of function that returns a lazy iterator.They are memory efficient ,unlike lists , lazy iterator do not store their contents in memory.Instead of computing the value of each item when instantiated, they only compute it when we ask for it.\n",
    "Yield keyword is used to turn any expression that is given with it into the generator object and return it to the caller.Therfore , we must iterate over the generator object to ibtain the values stored."
   ]
  },
  {
   "cell_type": "code",
   "execution_count": 8,
   "id": "4b297220",
   "metadata": {},
   "outputs": [],
   "source": [
    "## example of generator function \n",
    "def add(*args):\n",
    "    sum = 0\n",
    "    for i in args:\n",
    "        sum+= i \n",
    "    yield sum\n",
    "    "
   ]
  },
  {
   "cell_type": "code",
   "execution_count": 9,
   "id": "cb1042d9",
   "metadata": {},
   "outputs": [
    {
     "name": "stdout",
     "output_type": "stream",
     "text": [
      "758\n"
     ]
    }
   ],
   "source": [
    "a = add(23,51,552,32,100)\n",
    "for i in a:\n",
    "    print(i)"
   ]
  },
  {
   "cell_type": "markdown",
   "id": "49a822b6",
   "metadata": {},
   "source": [
    "##### Q5. Create a generator function for prime numbers less than 1000. Use the next() method to print the first 20 prime numbers."
   ]
  },
  {
   "cell_type": "code",
   "execution_count": 10,
   "id": "d2d51c97",
   "metadata": {},
   "outputs": [],
   "source": [
    "def prime():\n",
    "    for i in range(2,1000):\n",
    "        for j in range(2,i):\n",
    "            if i%j == 0:\n",
    "                break\n",
    "        else :\n",
    "            yield i           "
   ]
  },
  {
   "cell_type": "code",
   "execution_count": 11,
   "id": "36eb4a10",
   "metadata": {},
   "outputs": [
    {
     "name": "stdout",
     "output_type": "stream",
     "text": [
      "2\n",
      "3\n",
      "5\n",
      "7\n",
      "11\n",
      "13\n",
      "17\n",
      "19\n",
      "23\n",
      "29\n",
      "31\n",
      "37\n",
      "41\n",
      "43\n",
      "47\n",
      "53\n",
      "59\n",
      "61\n",
      "67\n",
      "71\n"
     ]
    }
   ],
   "source": [
    "prm = prime()\n",
    "for x in range(20):\n",
    "    print(next(prm))"
   ]
  },
  {
   "cell_type": "markdown",
   "id": "8a3dcdf2",
   "metadata": {},
   "source": [
    "##### Q6. Write a python program to print the first 10 Fibonacci numbers using a while loop."
   ]
  },
  {
   "cell_type": "code",
   "execution_count": 12,
   "id": "471020f9",
   "metadata": {},
   "outputs": [],
   "source": [
    "def fibno():\n",
    "    a,b =0,1\n",
    "    while True:\n",
    "        yield a\n",
    "        a,b = b,a+b"
   ]
  },
  {
   "cell_type": "code",
   "execution_count": 13,
   "id": "5310ceb9",
   "metadata": {},
   "outputs": [
    {
     "name": "stdout",
     "output_type": "stream",
     "text": [
      "0\n",
      "1\n",
      "1\n",
      "2\n",
      "3\n",
      "5\n",
      "8\n",
      "13\n",
      "21\n",
      "34\n"
     ]
    }
   ],
   "source": [
    "fibn = fibno()\n",
    "for i in range(10):\n",
    "    print(next(fibn))"
   ]
  },
  {
   "cell_type": "markdown",
   "id": "b36471df",
   "metadata": {},
   "source": [
    "##### Q7. Write a List Comprehension to iterate through the given string: ‘pwskills’. Expected output: ['p', 'w', 's', 'k', 'i', 'l', 'l', 's']"
   ]
  },
  {
   "cell_type": "code",
   "execution_count": 14,
   "id": "ca57dd35",
   "metadata": {},
   "outputs": [
    {
     "name": "stdout",
     "output_type": "stream",
     "text": [
      "['p', 'w', 's', 'k', 'i', 'l', 'l', 's']\n"
     ]
    }
   ],
   "source": [
    "a = \"pwskills\"\n",
    "a1 = [i for i in a]\n",
    "print(a1)"
   ]
  },
  {
   "cell_type": "code",
   "execution_count": 15,
   "id": "0a1c2e66",
   "metadata": {},
   "outputs": [
    {
     "name": "stdout",
     "output_type": "stream",
     "text": [
      "['P', 'W', 'S', 'K', 'I', 'L', 'L', 'S']\n"
     ]
    }
   ],
   "source": [
    "a = \"pwskills\"\n",
    "a1 = [i.upper() for i in a]\n",
    "print(a1)"
   ]
  },
  {
   "cell_type": "markdown",
   "id": "4592e3a9",
   "metadata": {},
   "source": [
    "##### Q8. Write a python program to check whether a given number is Palindrome or not using a while loop."
   ]
  },
  {
   "cell_type": "code",
   "execution_count": 16,
   "id": "fe5a41d7",
   "metadata": {},
   "outputs": [
    {
     "name": "stdout",
     "output_type": "stream",
     "text": [
      "Enter a number: 24782610\n",
      "NO, it is not a palindrome\n"
     ]
    }
   ],
   "source": [
    "a = int(input(\"Enter a number: \"))\n",
    "rev = 0\n",
    "num = a\n",
    "while num!=0:\n",
    "    \n",
    "    rev = rev*10 + (num%10)\n",
    "    num = num//10\n",
    "if rev==a:\n",
    "    print(\"yes, it is a palindrome\")\n",
    "else:\n",
    "    print(\"NO, it is not a palindrome\")"
   ]
  },
  {
   "cell_type": "code",
   "execution_count": 17,
   "id": "8699f671",
   "metadata": {},
   "outputs": [
    {
     "name": "stdout",
     "output_type": "stream",
     "text": [
      "Enter a number: 2332\n",
      "yes, it is a palindrome\n"
     ]
    }
   ],
   "source": [
    "a = int(input(\"Enter a number: \"))\n",
    "rev = 0\n",
    "num = a\n",
    "while num!=0:\n",
    "    \n",
    "    rev = rev*10 + (num%10)\n",
    "    num = num//10\n",
    "if rev==a:\n",
    "    print(\"yes, it is a palindrome\")\n",
    "else:\n",
    "    print(\"NO, it is not a palindrome\")"
   ]
  },
  {
   "cell_type": "markdown",
   "id": "5dcf7efd",
   "metadata": {},
   "source": [
    "##### Q9. Write a code to print odd numbers from 1 to 100 using list comprehension."
   ]
  },
  {
   "cell_type": "code",
   "execution_count": 18,
   "id": "ffea3a1e",
   "metadata": {},
   "outputs": [],
   "source": [
    "list = [x for x in range(100)]"
   ]
  },
  {
   "cell_type": "code",
   "execution_count": 19,
   "id": "49c1c55c",
   "metadata": {},
   "outputs": [
    {
     "name": "stdout",
     "output_type": "stream",
     "text": [
      "[1, 3, 5, 7, 9, 11, 13, 15, 17, 19, 21, 23, 25, 27, 29, 31, 33, 35, 37, 39, 41, 43, 45, 47, 49, 51, 53, 55, 57, 59, 61, 63, 65, 67, 69, 71, 73, 75, 77, 79, 81, 83, 85, 87, 89, 91, 93, 95, 97, 99]\n"
     ]
    }
   ],
   "source": [
    "odd_num = [i for i in list if i%2 != 0]\n",
    "print(odd_num)"
   ]
  },
  {
   "cell_type": "code",
   "execution_count": null,
   "id": "a2b779ea",
   "metadata": {},
   "outputs": [],
   "source": []
  }
 ],
 "metadata": {
  "kernelspec": {
   "display_name": "Python 3 (ipykernel)",
   "language": "python",
   "name": "python3"
  },
  "language_info": {
   "codemirror_mode": {
    "name": "ipython",
    "version": 3
   },
   "file_extension": ".py",
   "mimetype": "text/x-python",
   "name": "python",
   "nbconvert_exporter": "python",
   "pygments_lexer": "ipython3",
   "version": "3.9.13"
  }
 },
 "nbformat": 4,
 "nbformat_minor": 5
}
