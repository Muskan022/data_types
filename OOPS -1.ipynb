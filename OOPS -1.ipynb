{
 "cells": [
  {
   "cell_type": "markdown",
   "id": "2bac6ab5",
   "metadata": {},
   "source": [
    "##### Q1. Create a vehicle class with an init method having instance variables as name_of_vehicle, max_speed and average_of_vehicle."
   ]
  },
  {
   "cell_type": "code",
   "execution_count": 1,
   "id": "576d55b6",
   "metadata": {},
   "outputs": [],
   "source": [
    "class vehicle:\n",
    "  \n",
    "    def __init__(self,name, speed , average):\n",
    "        self.__name_of_vehicle = name \n",
    "        self.__max_speed = speed\n",
    "        self.__average_of_vehicle = average\n",
    "   \n",
    "    def vehicle_details(self):\n",
    "        return self.__name_of_vehicle , self.__max_speed , self.__average_of_vehicle"
   ]
  },
  {
   "cell_type": "code",
   "execution_count": 2,
   "id": "aa73ed07",
   "metadata": {},
   "outputs": [],
   "source": [
    "car = vehicle(\"Honda City\" , 180 , \"18kmpl\")"
   ]
  },
  {
   "cell_type": "code",
   "execution_count": 3,
   "id": "e18e9aac",
   "metadata": {},
   "outputs": [
    {
     "data": {
      "text/plain": [
       "('Honda City', 180, '18kmpl')"
      ]
     },
     "execution_count": 3,
     "metadata": {},
     "output_type": "execute_result"
    }
   ],
   "source": [
    "car.vehicle_details()"
   ]
  },
  {
   "cell_type": "markdown",
   "id": "b619ea62",
   "metadata": {},
   "source": [
    "##### Q2. Create a child class car from the vehicle class created in Que 1, which will inherit the vehicle class. Create a method named seating_capacity which takes capacity as an argument and returns the name of the vehicle and its seating capacity."
   ]
  },
  {
   "cell_type": "code",
   "execution_count": 4,
   "id": "dda5b641",
   "metadata": {},
   "outputs": [],
   "source": [
    "class car(vehicle):\n",
    "    \n",
    "    def seating_capacity(self,capacity):\n",
    "        return self._vehicle__name_of_vehicle , capacity"
   ]
  },
  {
   "cell_type": "code",
   "execution_count": 5,
   "id": "77d38de6",
   "metadata": {},
   "outputs": [],
   "source": [
    "a = car('Honda City', 180, '18kmpl')"
   ]
  },
  {
   "cell_type": "code",
   "execution_count": 6,
   "id": "da303ba4",
   "metadata": {},
   "outputs": [
    {
     "data": {
      "text/plain": [
       "('Honda City', 5)"
      ]
     },
     "execution_count": 6,
     "metadata": {},
     "output_type": "execute_result"
    }
   ],
   "source": [
    "a.seating_capacity(5)"
   ]
  },
  {
   "cell_type": "markdown",
   "id": "48c4d40c",
   "metadata": {},
   "source": [
    "##### Q3. What is multiple inheritance? Write a python code to demonstrate multiple inheritance.\n",
    "\n",
    "ans - when an object or class can inherit features from more than one parent object or parent class is called multiple inheritance."
   ]
  },
  {
   "cell_type": "code",
   "execution_count": 21,
   "id": "4303ef1d",
   "metadata": {},
   "outputs": [],
   "source": [
    "class parent :\n",
    "    \n",
    "    def __init__(self , name , phone_number):\n",
    "        self.name = name \n",
    "        self.phone_number = phone_number\n",
    "        \n",
    "    def parent_detail(self):\n",
    "        return self.name , self.phone_number\n",
    "    \n",
    "class student :\n",
    "    \n",
    "    def __init__(self , student_name , student_id , stream):\n",
    "        \n",
    "        self.student_name = student_name\n",
    "        self.student_id = student_id \n",
    "        self.stream = stream\n",
    "        \n",
    "    def student_detail(self):\n",
    "        \n",
    "        return self.student_name , self.student_id , self.stream\n",
    "    \n",
    "class student_parent_details(parent , student):\n",
    "    \n",
    "    def __init__(self , name , phone_number ,student_name , student_id , stream):\n",
    "            parent.__init__(self , name , phone_number)\n",
    "            student.__init__(self,student_name , student_id , stream)\n",
    "        \n",
    "        \n",
    "    def display(self):\n",
    "        return  parent.parent_detail(self) , student.student_detail(self)\n",
    "        \n",
    "    "
   ]
  },
  {
   "cell_type": "code",
   "execution_count": 22,
   "id": "f68ddca9",
   "metadata": {},
   "outputs": [],
   "source": [
    "john = student_parent_details(\"Sam\", 982147894, \"john\", 101 , \"Computer science\")"
   ]
  },
  {
   "cell_type": "code",
   "execution_count": 23,
   "id": "ac2fd5fd",
   "metadata": {},
   "outputs": [
    {
     "data": {
      "text/plain": [
       "('Sam', 982147894)"
      ]
     },
     "execution_count": 23,
     "metadata": {},
     "output_type": "execute_result"
    }
   ],
   "source": [
    "john.parent_detail()"
   ]
  },
  {
   "cell_type": "code",
   "execution_count": 24,
   "id": "965b29fc",
   "metadata": {},
   "outputs": [
    {
     "data": {
      "text/plain": [
       "(('Sam', 982147894), ('john', 101, 'Computer science'))"
      ]
     },
     "execution_count": 24,
     "metadata": {},
     "output_type": "execute_result"
    }
   ],
   "source": [
    "john.display()"
   ]
  },
  {
   "cell_type": "markdown",
   "id": "4547a816",
   "metadata": {},
   "source": [
    "##### Q4. What are getter and setter in python? Create a class and create a getter and a setter method in this class.\n",
    "\n",
    "Ans - In Python, getters and setters are used to ensure data encapsulation. They are used to add validation logic around getting and setting a value and to avoid direct access of a class field that is private variables cannot be accessed directly or modified by an external users."
   ]
  },
  {
   "cell_type": "code",
   "execution_count": 28,
   "id": "c58dc7d3",
   "metadata": {},
   "outputs": [],
   "source": [
    "class student :\n",
    "    \n",
    "    def __init__(self, name , student_id , phone_number):\n",
    "        self.__student_id = student_id \n",
    "        self.name = name \n",
    "        self.__phone_number = phone_number\n",
    "    @property\n",
    "    def student_det_access(self):\n",
    "        return self.__student_id , self.__phone_number\n",
    "    \n",
    "    @student_det_access.setter\n",
    "    def set_student_det(self,student_id):\n",
    "        self.__student_id = student_id \n",
    "       \n",
    "    \n",
    "    def display_det(self):\n",
    "        return self.name , self.__phone_number , self.__student_id\n",
    "   "
   ]
  },
  {
   "cell_type": "code",
   "execution_count": 29,
   "id": "f9d010d6",
   "metadata": {},
   "outputs": [],
   "source": [
    "st = student(\"john\",101, 9798876421)"
   ]
  },
  {
   "cell_type": "code",
   "execution_count": 31,
   "id": "82fb7dcd",
   "metadata": {},
   "outputs": [
    {
     "data": {
      "text/plain": [
       "(101, 9798876421)"
      ]
     },
     "execution_count": 31,
     "metadata": {},
     "output_type": "execute_result"
    }
   ],
   "source": [
    "st.student_det_access"
   ]
  },
  {
   "cell_type": "code",
   "execution_count": 32,
   "id": "4002f1b7",
   "metadata": {},
   "outputs": [],
   "source": [
    "st.set_student_det = 201"
   ]
  },
  {
   "cell_type": "code",
   "execution_count": 33,
   "id": "2d862c27",
   "metadata": {},
   "outputs": [
    {
     "data": {
      "text/plain": [
       "(201, 9798876421)"
      ]
     },
     "execution_count": 33,
     "metadata": {},
     "output_type": "execute_result"
    }
   ],
   "source": [
    "st.student_det_access"
   ]
  },
  {
   "cell_type": "code",
   "execution_count": 35,
   "id": "1427992a",
   "metadata": {},
   "outputs": [
    {
     "data": {
      "text/plain": [
       "('john', 9798876421, 201)"
      ]
     },
     "execution_count": 35,
     "metadata": {},
     "output_type": "execute_result"
    }
   ],
   "source": [
    "st.display_det()"
   ]
  },
  {
   "cell_type": "markdown",
   "id": "109be057",
   "metadata": {},
   "source": [
    "##### Q5.What is method overriding in python? Write a python code to demonstrate method overriding.\n",
    "\n",
    "ANS- Method overriding in Python is when a subclass has a method with the same name as a method in its superclass. When you call the method on an object of the subclass, it uses the version of the method defined in the subclass, not the one in the superclass."
   ]
  },
  {
   "cell_type": "code",
   "execution_count": 60,
   "id": "0ad5f3ba",
   "metadata": {},
   "outputs": [
    {
     "data": {
      "text/plain": [
       "'\\nwe create instances of square and rectange and call their area methods, so here the implementation of \\nthe subclasses are used instead of parent class.\\n\\n'"
      ]
     },
     "execution_count": 60,
     "metadata": {},
     "output_type": "execute_result"
    }
   ],
   "source": [
    "class shape:\n",
    "    \n",
    "    def area(self):\n",
    "        pass\n",
    "    \n",
    "class square(shape):\n",
    "    \n",
    "    def __init__(self,side):\n",
    "        self.side = side\n",
    "    \n",
    "    def area(self):\n",
    "        return self.side*self.side\n",
    "    \n",
    "class rectangle(shape):\n",
    "    \n",
    "    def __init__(self,length , breadth):\n",
    "        self.length = length \n",
    "        self.breadth = breadth \n",
    "    \n",
    "    def area(self):\n",
    "        return self.length*self.breadth\n",
    "    \n",
    "\"\"\"\n",
    "we create instances of square and rectange and call their area methods, so here the implementation of \n",
    "the subclasses are used instead of parent class.\n",
    "\n",
    "\"\"\"    "
   ]
  },
  {
   "cell_type": "code",
   "execution_count": 53,
   "id": "a9e22529",
   "metadata": {},
   "outputs": [],
   "source": [
    "shape = square(5)"
   ]
  },
  {
   "cell_type": "code",
   "execution_count": 54,
   "id": "1d7b2ce2",
   "metadata": {},
   "outputs": [
    {
     "data": {
      "text/plain": [
       "25"
      ]
     },
     "execution_count": 54,
     "metadata": {},
     "output_type": "execute_result"
    }
   ],
   "source": [
    "shape.area()"
   ]
  },
  {
   "cell_type": "code",
   "execution_count": 56,
   "id": "3873b0cd",
   "metadata": {},
   "outputs": [],
   "source": [
    "sh = rectangle(24,52)"
   ]
  },
  {
   "cell_type": "code",
   "execution_count": 57,
   "id": "72766782",
   "metadata": {},
   "outputs": [
    {
     "data": {
      "text/plain": [
       "1248"
      ]
     },
     "execution_count": 57,
     "metadata": {},
     "output_type": "execute_result"
    }
   ],
   "source": [
    "sh.area()"
   ]
  },
  {
   "cell_type": "code",
   "execution_count": null,
   "id": "204b77af",
   "metadata": {},
   "outputs": [],
   "source": []
  }
 ],
 "metadata": {
  "kernelspec": {
   "display_name": "Python 3 (ipykernel)",
   "language": "python",
   "name": "python3"
  },
  "language_info": {
   "codemirror_mode": {
    "name": "ipython",
    "version": 3
   },
   "file_extension": ".py",
   "mimetype": "text/x-python",
   "name": "python",
   "nbconvert_exporter": "python",
   "pygments_lexer": "ipython3",
   "version": "3.9.13"
  }
 },
 "nbformat": 4,
 "nbformat_minor": 5
}
