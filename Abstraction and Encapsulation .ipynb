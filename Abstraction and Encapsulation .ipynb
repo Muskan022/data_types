{
 "cells": [
  {
   "cell_type": "markdown",
   "id": "0f88586d",
   "metadata": {},
   "source": [
    "##### Q1. What is Abstraction in OOps? Explain with an example.\n",
    "\n",
    "Ans - Abstraction is a concept in OOPs that helps to ahndle complexity by hiding unnecessary details from the user. It allows th euser to implement more complex logic without understanding all the hidden complexity.\n",
    "\n",
    "There are two types of abstraction :\n",
    "\n",
    "Data Abstraction -It hides th edetails of data entities. \n",
    "\n",
    "Process Abstraction - It hides the underlying implementation of a process.\n",
    "\n",
    "Example of abstraction is making coffee with a coffee machine. we need to know how to use your coffee machine to make coffee. You need to provide water and coffee beans, switch it on and select the kind of coffee you want to get. The thing we don’t need to know is how the coffee machine is working internally to brew a fresh cup of coffee."
   ]
  },
  {
   "cell_type": "code",
   "execution_count": 1,
   "id": "b79b27ea",
   "metadata": {},
   "outputs": [],
   "source": [
    "import abc\n",
    "class stellar :\n",
    "    \n",
    "    @abc.abstractmethod\n",
    "    def students_det(self):\n",
    "        pass\n",
    "    @abc.abstractmethod\n",
    "    def teachers_det(self):\n",
    "        pass\n",
    "    \n",
    "class students(stellar):\n",
    "    \n",
    "    def students_det(self , name ,course):\n",
    "        return name , course\n",
    "    \n",
    "class teacher(stellar):\n",
    "\n",
    "    def students_det(self):\n",
    "        print(\"you are inside teacher class\")\n",
    "    \n",
    "    def teachers_det(self , name , email_id):\n",
    "        return name , email_id"
   ]
  },
  {
   "cell_type": "code",
   "execution_count": 2,
   "id": "e6e9302b",
   "metadata": {},
   "outputs": [],
   "source": [
    "obj = students()"
   ]
  },
  {
   "cell_type": "code",
   "execution_count": 3,
   "id": "824ff1c3",
   "metadata": {},
   "outputs": [
    {
     "data": {
      "text/plain": [
       "('Muskan ', 'Data science')"
      ]
     },
     "execution_count": 3,
     "metadata": {},
     "output_type": "execute_result"
    }
   ],
   "source": [
    "obj.students_det(\"Muskan \" , \"Data science\")"
   ]
  },
  {
   "cell_type": "code",
   "execution_count": 4,
   "id": "83db700d",
   "metadata": {},
   "outputs": [],
   "source": [
    "obj1 = teacher()"
   ]
  },
  {
   "cell_type": "code",
   "execution_count": 5,
   "id": "ebfb4c89",
   "metadata": {},
   "outputs": [
    {
     "name": "stdout",
     "output_type": "stream",
     "text": [
      "you are inside teacher class\n"
     ]
    }
   ],
   "source": [
    "obj1.students_det()"
   ]
  },
  {
   "cell_type": "code",
   "execution_count": 6,
   "id": "6c43a86d",
   "metadata": {},
   "outputs": [
    {
     "data": {
      "text/plain": [
       "('sudh', 'sudh@gamil.com')"
      ]
     },
     "execution_count": 6,
     "metadata": {},
     "output_type": "execute_result"
    }
   ],
   "source": [
    "obj1.teachers_det(\"sudh\",\"sudh@gamil.com\")"
   ]
  },
  {
   "cell_type": "markdown",
   "id": "3b810e4b",
   "metadata": {},
   "source": [
    "##### Q2. Differentiate between Abstraction and Encapsulation. Explain with an example.\n",
    "\n",
    "Ans - Abstraction - It provides a common interface for related classes and hides the internal implementation details of an object from the user.\n",
    "\n",
    "Encapsulation - It is a mechanism that packs data and methods into a single unit. It hides the implementation details of an object from the user and defines a straightforward interface for interacting with the object. It helps achieve modularity, reusability, and data security.\n",
    "\n",
    "**encapsulation is about hiding information, while abstraction is about hiding implementation."
   ]
  },
  {
   "cell_type": "code",
   "execution_count": 7,
   "id": "36880ebc",
   "metadata": {},
   "outputs": [],
   "source": [
    "class bank_account :\n",
    "    \n",
    "    def __init__(self,amount):\n",
    "        self.__balance = amount\n",
    "        \n",
    "    def deposit(self,deposit):\n",
    "        self.__balance = self.__balance + deposit \n",
    "        return self.__balance\n",
    "        \n",
    "    def withdraw(self,withdraws):\n",
    "        if self.__balance >= withdraws :\n",
    "            self.__balance = self.__balance - withdraws\n",
    "            return True\n",
    "        else :\n",
    "            return False\n",
    "        \n",
    "        \n",
    "    def check_balance(self):\n",
    "        return self.__balance"
   ]
  },
  {
   "cell_type": "code",
   "execution_count": 8,
   "id": "6bb0b4fd",
   "metadata": {},
   "outputs": [],
   "source": [
    "obj = bank_account(5000)"
   ]
  },
  {
   "cell_type": "code",
   "execution_count": 9,
   "id": "852cb3dd",
   "metadata": {},
   "outputs": [
    {
     "data": {
      "text/plain": [
       "8000"
      ]
     },
     "execution_count": 9,
     "metadata": {},
     "output_type": "execute_result"
    }
   ],
   "source": [
    "obj.deposit(3000)"
   ]
  },
  {
   "cell_type": "code",
   "execution_count": 10,
   "id": "cdac1b64",
   "metadata": {},
   "outputs": [
    {
     "data": {
      "text/plain": [
       "True"
      ]
     },
     "execution_count": 10,
     "metadata": {},
     "output_type": "execute_result"
    }
   ],
   "source": [
    "obj.withdraw(2000)"
   ]
  },
  {
   "cell_type": "code",
   "execution_count": 11,
   "id": "45e40044",
   "metadata": {},
   "outputs": [
    {
     "data": {
      "text/plain": [
       "6000"
      ]
     },
     "execution_count": 11,
     "metadata": {},
     "output_type": "execute_result"
    }
   ],
   "source": [
    "obj.check_balance()"
   ]
  },
  {
   "cell_type": "markdown",
   "id": "bd8d5625",
   "metadata": {},
   "source": [
    "In this example , bank_account class uses encapsulation to hide the internal details of the object from the user.The __balance__ attribute is private and can only be accessed and modified through deposit , withdraw and check_balance. \n",
    "\n",
    "The bank account class also uses abstraction method to provide a common interface for related classes.The user doesn't need to understand how these methods  are implemented and which kinds of actions they have to perform to create the expected result."
   ]
  },
  {
   "cell_type": "markdown",
   "id": "aa6d5514",
   "metadata": {},
   "source": [
    "##### Q3. What is abc module in python? Why is it used?\n",
    "\n",
    "ans -An abstract base class is a class that cannot be instantiated and is meant to be subclassed by other classes. It provides a common interface for related classes and defines a set of methods and properties that must be implemented by its subclasses.\n",
    "\n",
    "It works by decorating methods of the base class as abstract and then registering concrete classes as implementations of the abstract base. A method becomes abstract when decorated with the keyword @abstractmethod.\n",
    "\n"
   ]
  },
  {
   "cell_type": "markdown",
   "id": "d0cbf44c",
   "metadata": {},
   "source": [
    "##### Q4. How can we achieve data abstraction?\n",
    "\n",
    "Ans - we can define @abstractmethod keyword on top of the methods and use the abc module of python to achieve data abstraction in python.\n",
    "\n"
   ]
  },
  {
   "cell_type": "markdown",
   "id": "c0ba9e75",
   "metadata": {},
   "source": [
    "##### Q5. Can we create an instance of an abstract class? Explain your answer.\n",
    "\n",
    "Ans - No, we cannot create an instance of abstract class. Abstract classes can only be used via inheritance and their child classes have to provide an implementation for all the abstract methods.Abstract classes are a template that enforces a common interface and forces classes that ihnerit from it to implement a set of methods and properties."
   ]
  },
  {
   "cell_type": "code",
   "execution_count": null,
   "id": "7b304ac6",
   "metadata": {},
   "outputs": [],
   "source": []
  }
 ],
 "metadata": {
  "kernelspec": {
   "display_name": "Python 3 (ipykernel)",
   "language": "python",
   "name": "python3"
  },
  "language_info": {
   "codemirror_mode": {
    "name": "ipython",
    "version": 3
   },
   "file_extension": ".py",
   "mimetype": "text/x-python",
   "name": "python",
   "nbconvert_exporter": "python",
   "pygments_lexer": "ipython3",
   "version": "3.9.13"
  }
 },
 "nbformat": 4,
 "nbformat_minor": 5
}
