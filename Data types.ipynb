{
 "cells": [
  {
   "cell_type": "code",
   "execution_count": 1,
   "id": "0c20f250",
   "metadata": {},
   "outputs": [
    {
     "name": "stdout",
     "output_type": "stream",
     "text": [
      "<class 'str'>\n"
     ]
    }
   ],
   "source": [
    "a = \"Muskan\"\n",
    "print(type(a))"
   ]
  },
  {
   "cell_type": "code",
   "execution_count": 2,
   "id": "62278ccf",
   "metadata": {},
   "outputs": [
    {
     "name": "stdout",
     "output_type": "stream",
     "text": [
      "<class 'list'>\n"
     ]
    }
   ],
   "source": [
    "b =[\"muskan\",200,654,79,True]\n",
    "print(type(b))"
   ]
  },
  {
   "cell_type": "code",
   "execution_count": 3,
   "id": "444dc324",
   "metadata": {},
   "outputs": [
    {
     "name": "stdout",
     "output_type": "stream",
     "text": [
      "<class 'float'>\n"
     ]
    }
   ],
   "source": [
    "c = 4.55\n",
    "print(type(c))"
   ]
  },
  {
   "cell_type": "code",
   "execution_count": 4,
   "id": "57a29dbc",
   "metadata": {},
   "outputs": [
    {
     "name": "stdout",
     "output_type": "stream",
     "text": [
      "<class 'tuple'>\n"
     ]
    }
   ],
   "source": [
    "d = (\"muskan\", 200,64)\n",
    "print(type(d))"
   ]
  },
  {
   "cell_type": "code",
   "execution_count": 5,
   "id": "dc66a123",
   "metadata": {},
   "outputs": [
    {
     "name": "stdout",
     "output_type": "stream",
     "text": [
      "<class 'complex'>\n"
     ]
    }
   ],
   "source": [
    "e = 45+3j\n",
    "print(type(e))"
   ]
  },
  {
   "cell_type": "code",
   "execution_count": 6,
   "id": "960437fc",
   "metadata": {},
   "outputs": [
    {
     "name": "stdout",
     "output_type": "stream",
     "text": [
      "<class 'str'>\n"
     ]
    }
   ],
   "source": [
    "var1 = \"\"\n",
    "print(type(var1))"
   ]
  },
  {
   "cell_type": "code",
   "execution_count": 7,
   "id": "3df0bdbf",
   "metadata": {},
   "outputs": [
    {
     "name": "stdout",
     "output_type": "stream",
     "text": [
      "<class 'str'>\n"
     ]
    }
   ],
   "source": [
    "var2 = \"[ DS , ML , Python]\"\n",
    "print(type(var2))"
   ]
  },
  {
   "cell_type": "code",
   "execution_count": 8,
   "id": "28c240e8",
   "metadata": {},
   "outputs": [
    {
     "name": "stdout",
     "output_type": "stream",
     "text": [
      "<class 'list'>\n"
     ]
    }
   ],
   "source": [
    "var3 = [\"DS\",\"ML\",\"PYTHON\"]\n",
    "print(type(var3))"
   ]
  },
  {
   "cell_type": "code",
   "execution_count": 9,
   "id": "aaf36ff6",
   "metadata": {},
   "outputs": [
    {
     "name": "stdout",
     "output_type": "stream",
     "text": [
      "<class 'int'>\n"
     ]
    }
   ],
   "source": [
    "var4= 1\n",
    "print(type(var4))"
   ]
  },
  {
   "cell_type": "markdown",
   "id": "05b79d79",
   "metadata": {},
   "source": [
    "## Using different types of operators"
   ]
  },
  {
   "cell_type": "code",
   "execution_count": 10,
   "id": "f90c2913",
   "metadata": {},
   "outputs": [
    {
     "data": {
      "text/plain": [
       "0.8"
      ]
     },
     "execution_count": 10,
     "metadata": {},
     "output_type": "execute_result"
    }
   ],
   "source": [
    "4/5\n",
    "#used for float division"
   ]
  },
  {
   "cell_type": "code",
   "execution_count": 11,
   "id": "13939250",
   "metadata": {},
   "outputs": [
    {
     "data": {
      "text/plain": [
       "1"
      ]
     },
     "execution_count": 11,
     "metadata": {},
     "output_type": "execute_result"
    }
   ],
   "source": [
    "45%4\n",
    "# gives remainder"
   ]
  },
  {
   "cell_type": "code",
   "execution_count": 12,
   "id": "4769a617",
   "metadata": {},
   "outputs": [
    {
     "data": {
      "text/plain": [
       "11"
      ]
     },
     "execution_count": 12,
     "metadata": {},
     "output_type": "execute_result"
    }
   ],
   "source": [
    "45//4\n",
    "##used for integer division"
   ]
  },
  {
   "cell_type": "code",
   "execution_count": 13,
   "id": "60dcaed8",
   "metadata": {},
   "outputs": [
    {
     "data": {
      "text/plain": [
       "36"
      ]
     },
     "execution_count": 13,
     "metadata": {},
     "output_type": "execute_result"
    }
   ],
   "source": [
    "6**2\n",
    "##used for exponentiation."
   ]
  },
  {
   "cell_type": "markdown",
   "id": "04d0fb86",
   "metadata": {},
   "source": [
    " Q4. Create a list of length 10 of your choice containing multiple types of data. Using for loop print the element and its data type.\n"
   ]
  },
  {
   "cell_type": "code",
   "execution_count": 14,
   "id": "c8929880",
   "metadata": {},
   "outputs": [],
   "source": [
    "list1 = [\"muskan\", \"python\",45,4.55,63+3j,\"skills\",\"hello\",96,3+2j,16]"
   ]
  },
  {
   "cell_type": "code",
   "execution_count": 15,
   "id": "e200ff84",
   "metadata": {},
   "outputs": [
    {
     "name": "stdout",
     "output_type": "stream",
     "text": [
      "muskan\n",
      "<class 'str'>\n",
      "python\n",
      "<class 'str'>\n",
      "45\n",
      "<class 'int'>\n",
      "4.55\n",
      "<class 'float'>\n",
      "(63+3j)\n",
      "<class 'complex'>\n",
      "skills\n",
      "<class 'str'>\n",
      "hello\n",
      "<class 'str'>\n",
      "96\n",
      "<class 'int'>\n",
      "(3+2j)\n",
      "<class 'complex'>\n",
      "16\n",
      "<class 'int'>\n"
     ]
    }
   ],
   "source": [
    "for i in list1:\n",
    "    print(i)\n",
    "    print(type(i))"
   ]
  },
  {
   "cell_type": "markdown",
   "id": "4770d3e7",
   "metadata": {},
   "source": [
    "Q5. Using a while loop, verify if the number A is purely divisible by number B and if so then how many\n",
    "times it can be divisible."
   ]
  },
  {
   "cell_type": "code",
   "execution_count": 32,
   "id": "2210d719",
   "metadata": {},
   "outputs": [
    {
     "name": "stdout",
     "output_type": "stream",
     "text": [
      "Input values of A: 435\n",
      "Input values of B: 5\n",
      "A is divisible by B : 1 times\n"
     ]
    }
   ],
   "source": [
    "A = int(input(\"Input values of A: \"))\n",
    "B = int(input(\"Input values of B: \"))\n",
    "i= 0 \n",
    "while A % B == 0:\n",
    "     A = A / B\n",
    "     i += 1 \n",
    "    \n",
    "if i == 0 :\n",
    "    print(\" A is not divisible by B\")\n",
    "else:\n",
    "    print(f\"A is divisible by B : {i} times\")\n"
   ]
  },
  {
   "cell_type": "markdown",
   "id": "d316acda",
   "metadata": {},
   "source": [
    "Q6. Create a list containing 25 int type data. Using for loop and if-else condition print if the element is\n",
    "divisible by 3 or not.\n"
   ]
  },
  {
   "cell_type": "code",
   "execution_count": 17,
   "id": "92fa811e",
   "metadata": {},
   "outputs": [],
   "source": [
    "list2 = [24,2,4,6,2,5,64,13,23,54,64,53,23,34,6,3,6,321,32,76,53,75,87,97,4]\n"
   ]
  },
  {
   "cell_type": "code",
   "execution_count": 18,
   "id": "ba4b41ed",
   "metadata": {},
   "outputs": [
    {
     "name": "stdout",
     "output_type": "stream",
     "text": [
      "24 is divisible by 3\n",
      "2 is not divisible by 3\n",
      "4 is not divisible by 3\n",
      "6 is divisible by 3\n",
      "2 is not divisible by 3\n",
      "5 is not divisible by 3\n",
      "64 is not divisible by 3\n",
      "13 is not divisible by 3\n",
      "23 is not divisible by 3\n",
      "54 is divisible by 3\n",
      "64 is not divisible by 3\n",
      "53 is not divisible by 3\n",
      "23 is not divisible by 3\n",
      "34 is not divisible by 3\n",
      "6 is divisible by 3\n",
      "3 is divisible by 3\n",
      "6 is divisible by 3\n",
      "321 is divisible by 3\n",
      "32 is not divisible by 3\n",
      "76 is not divisible by 3\n",
      "53 is not divisible by 3\n",
      "75 is divisible by 3\n",
      "87 is divisible by 3\n",
      "97 is not divisible by 3\n",
      "4 is not divisible by 3\n"
     ]
    }
   ],
   "source": [
    "for i in list2:\n",
    "    if i%3==0:\n",
    "        print(f\"{i} is divisible by 3\")\n",
    "    else: \n",
    "        print(f\"{i} is not divisible by 3\")"
   ]
  },
  {
   "cell_type": "markdown",
   "id": "28c92fd2",
   "metadata": {},
   "source": [
    "Q7. What do you understand about mutable and immutable data types? Give examples for both showing\n",
    "this property."
   ]
  },
  {
   "cell_type": "markdown",
   "id": "86c4ef7f",
   "metadata": {},
   "source": [
    "Mutable = Mutable data types are those whose values can be changed after they are created.\n",
    "          example,lists and dictionaries in Python are mutable data types.\n",
    "      \n",
    "Immutable = Immutable data types are those whose values cannot be changed after they are created. For             example, strings and tuples in Python are immutable data types."
   ]
  },
  {
   "cell_type": "markdown",
   "id": "a2d79c4b",
   "metadata": {},
   "source": [
    "## Examples of Mutable Data types"
   ]
  },
  {
   "cell_type": "code",
   "execution_count": 19,
   "id": "40eb1e3f",
   "metadata": {},
   "outputs": [
    {
     "data": {
      "text/plain": [
       "67"
      ]
     },
     "execution_count": 19,
     "metadata": {},
     "output_type": "execute_result"
    }
   ],
   "source": [
    "list = [\"muskan\",54,23,43.63,67,\"skills\",\"yes\",True]\n",
    "list[4]"
   ]
  },
  {
   "cell_type": "code",
   "execution_count": 20,
   "id": "3d6f6aa3",
   "metadata": {},
   "outputs": [],
   "source": [
    "list[4] = \"hello\""
   ]
  },
  {
   "cell_type": "code",
   "execution_count": 21,
   "id": "b5f8537b",
   "metadata": {},
   "outputs": [
    {
     "data": {
      "text/plain": [
       "['muskan', 54, 23, 43.63, 'hello', 'skills', 'yes', True]"
      ]
     },
     "execution_count": 21,
     "metadata": {},
     "output_type": "execute_result"
    }
   ],
   "source": [
    "list"
   ]
  },
  {
   "cell_type": "code",
   "execution_count": 22,
   "id": "b8f46123",
   "metadata": {},
   "outputs": [],
   "source": [
    "dict = {\"true\":1,\"false\":2}"
   ]
  },
  {
   "cell_type": "code",
   "execution_count": 23,
   "id": "903e3844",
   "metadata": {},
   "outputs": [],
   "source": [
    "dict[\"false\"] = 0"
   ]
  },
  {
   "cell_type": "code",
   "execution_count": 24,
   "id": "94a3ce34",
   "metadata": {},
   "outputs": [
    {
     "data": {
      "text/plain": [
       "{'true': 1, 'false': 0}"
      ]
     },
     "execution_count": 24,
     "metadata": {},
     "output_type": "execute_result"
    }
   ],
   "source": [
    "dict"
   ]
  },
  {
   "cell_type": "markdown",
   "id": "e8b8ec62",
   "metadata": {},
   "source": [
    "## Examples of Immutable Data types"
   ]
  },
  {
   "cell_type": "code",
   "execution_count": 25,
   "id": "2ecc1b2f",
   "metadata": {},
   "outputs": [],
   "source": [
    "tup = \"muskan\",54,23,43.63,67,\"skills\",\"yes\",True"
   ]
  },
  {
   "cell_type": "code",
   "execution_count": 26,
   "id": "29a44bf7",
   "metadata": {},
   "outputs": [
    {
     "data": {
      "text/plain": [
       "tuple"
      ]
     },
     "execution_count": 26,
     "metadata": {},
     "output_type": "execute_result"
    }
   ],
   "source": [
    "type(tup)"
   ]
  },
  {
   "cell_type": "code",
   "execution_count": 27,
   "id": "e93889af",
   "metadata": {},
   "outputs": [
    {
     "data": {
      "text/plain": [
       "'muskan'"
      ]
     },
     "execution_count": 27,
     "metadata": {},
     "output_type": "execute_result"
    }
   ],
   "source": [
    "tup[0]"
   ]
  },
  {
   "cell_type": "code",
   "execution_count": 28,
   "id": "65758575",
   "metadata": {},
   "outputs": [
    {
     "ename": "TypeError",
     "evalue": "'tuple' object does not support item assignment",
     "output_type": "error",
     "traceback": [
      "\u001b[1;31m---------------------------------------------------------------------------\u001b[0m",
      "\u001b[1;31mTypeError\u001b[0m                                 Traceback (most recent call last)",
      "\u001b[1;32m~\\AppData\\Local\\Temp\\ipykernel_10572\\182536460.py\u001b[0m in \u001b[0;36m<module>\u001b[1;34m\u001b[0m\n\u001b[1;32m----> 1\u001b[1;33m \u001b[0mtup\u001b[0m\u001b[1;33m[\u001b[0m\u001b[1;36m0\u001b[0m\u001b[1;33m]\u001b[0m \u001b[1;33m=\u001b[0m \u001b[1;34m\"no\"\u001b[0m\u001b[1;33m\u001b[0m\u001b[1;33m\u001b[0m\u001b[0m\n\u001b[0m\u001b[0;32m      2\u001b[0m \u001b[1;31m## we cannot change the values in tuples and strings\u001b[0m\u001b[1;33m\u001b[0m\u001b[1;33m\u001b[0m\u001b[0m\n",
      "\u001b[1;31mTypeError\u001b[0m: 'tuple' object does not support item assignment"
     ]
    }
   ],
   "source": [
    "tup[0] = \"no\"\n",
    "## we cannot change the values in tuples and strings "
   ]
  },
  {
   "cell_type": "code",
   "execution_count": null,
   "id": "5e141dd2",
   "metadata": {},
   "outputs": [],
   "source": []
  }
 ],
 "metadata": {
  "kernelspec": {
   "display_name": "Python 3 (ipykernel)",
   "language": "python",
   "name": "python3"
  },
  "language_info": {
   "codemirror_mode": {
    "name": "ipython",
    "version": 3
   },
   "file_extension": ".py",
   "mimetype": "text/x-python",
   "name": "python",
   "nbconvert_exporter": "python",
   "pygments_lexer": "ipython3",
   "version": "3.9.13"
  }
 },
 "nbformat": 4,
 "nbformat_minor": 5
}
